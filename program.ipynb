{
 "cells": [
  {
   "cell_type": "code",
   "execution_count": 1,
   "metadata": {},
   "outputs": [],
   "source": [
    "#!/usr/bin/env python3\n",
    "\n",
    "\n",
    "input_string = \"\"\"Number of employees: 6\n",
    "Goodies and Prices:\n",
    "Fitbit Plus: 7980\n",
    "IPods: 22349\n",
    "MI Band: 999\n",
    "Cult Pass: 2799\n",
    "Macbook Pro: 229900\n",
    "Digital Camera: 11101\n",
    "Alexa: 9999\n",
    "Sandwich Toaster: 2195\n",
    "Microwave Oven: 9800\n",
    "Scale: 4999\n",
    "\"\"\"\n",
    "\n",
    "def parse_data(input_lines):\n",
    "    \n",
    "    m = int(input_lines[0].split(\":\")[-1].strip())\n",
    "    items = []\n",
    "    prices = []\n",
    "\n",
    "    for item in input_lines[4:]:\n",
    "        if item:\n",
    "            name = item.split(':')[0]\n",
    "            price = int(item.split(':')[1].strip())\n",
    "\n",
    "            items.append([name, price])\n",
    "    return m, items\n",
    "\n",
    "\n",
    "\n",
    "def find_gudie(items, m):\n",
    "    difference = None\n",
    "    start_gudie = None\n",
    "\n",
    "    for index, item in enumerate(items):\n",
    "        if index + (m - 1) >= len(items):\n",
    "            break\n",
    "\n",
    "        if difference is None:\n",
    "            start_gudie = 0\n",
    "            difference = items[m -1][1] - items[0][1]\n",
    "            continue\n",
    "        if items[index + m -1][1] - items[index][1] < difference:\n",
    "            start_gudie = index\n",
    "            difference = items[index + m -1][1] - items[index][1]\n",
    "\n",
    "    return start_gudie, difference\n",
    "\n",
    "\n",
    "\n",
    "def write_output(items, m, start_guddie, difference):\n",
    "    with open(\"output.txt\", \"w\") as f:\n",
    "        print(\"The goodies selected for distribution are:\\n\", file=f)\n",
    "        for item in items[start_guddie:start_guddie+m]:\n",
    "            print(\"{}: {}\".format(item[0], item[1]), file=f)\n",
    "        print(f\"\\nAnd the difference between the chosen goodie with highest price and the lowest price is {difference}\", file=f)\n",
    "\n",
    "\n",
    "\n",
    "if __name__ == '__main__':\n",
    "    # m = number of employees\n",
    "    # items = list of guddie, price\n",
    "    input_data = open(\"input.txt.txt\").readlines()\n",
    "    m, items = parse_data(input_data)\n",
    "\n",
    "    n = len(items)  # number of items\n",
    "\n",
    "    # sort items by price\n",
    "    items.sort(key=lambda x: x[1])\n",
    "    start_guddie, difference = find_gudie(items, m)\n",
    "    write_output(items, m, start_guddie, difference)"
   ]
  },
  {
   "cell_type": "code",
   "execution_count": 31,
   "metadata": {},
   "outputs": [
    {
     "name": "stdout",
     "output_type": "stream",
     "text": [
      "C:\\Users\\HP\\Desktop\\Python\n"
     ]
    }
   ],
   "source": [
    "import os\n",
    "print(os.getcwd())"
   ]
  },
  {
   "cell_type": "code",
   "execution_count": null,
   "metadata": {},
   "outputs": [],
   "source": []
  },
  {
   "cell_type": "code",
   "execution_count": null,
   "metadata": {},
   "outputs": [],
   "source": []
  },
  {
   "cell_type": "code",
   "execution_count": null,
   "metadata": {},
   "outputs": [],
   "source": []
  }
 ],
 "metadata": {
  "kernelspec": {
   "display_name": "Python 3",
   "language": "python",
   "name": "python3"
  },
  "language_info": {
   "codemirror_mode": {
    "name": "ipython",
    "version": 3
   },
   "file_extension": ".py",
   "mimetype": "text/x-python",
   "name": "python",
   "nbconvert_exporter": "python",
   "pygments_lexer": "ipython3",
   "version": "3.8.5"
  }
 },
 "nbformat": 4,
 "nbformat_minor": 4
}
